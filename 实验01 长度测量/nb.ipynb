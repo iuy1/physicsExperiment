{
 "cells": [
  {
   "cell_type": "code",
   "execution_count": 18,
   "metadata": {},
   "outputs": [],
   "source": [
    "import sys\n",
    "sys.path.append('..')\n",
    "from uncertainty import *"
   ]
  },
  {
   "cell_type": "code",
   "execution_count": 19,
   "metadata": {},
   "outputs": [
    {
     "data": {
      "text/html": [
       "<div>\n",
       "<style scoped>\n",
       "    .dataframe tbody tr th:only-of-type {\n",
       "        vertical-align: middle;\n",
       "    }\n",
       "\n",
       "    .dataframe tbody tr th {\n",
       "        vertical-align: top;\n",
       "    }\n",
       "\n",
       "    .dataframe thead th {\n",
       "        text-align: right;\n",
       "    }\n",
       "</style>\n",
       "<table border=\"1\" class=\"dataframe\">\n",
       "  <thead>\n",
       "    <tr style=\"text-align: right;\">\n",
       "      <th></th>\n",
       "      <th>D</th>\n",
       "      <th>d</th>\n",
       "      <th>H</th>\n",
       "      <th>h</th>\n",
       "    </tr>\n",
       "  </thead>\n",
       "  <tbody>\n",
       "    <tr>\n",
       "      <th>0</th>\n",
       "      <td>28.04</td>\n",
       "      <td>19.84</td>\n",
       "      <td>44.98</td>\n",
       "      <td>32.14</td>\n",
       "    </tr>\n",
       "    <tr>\n",
       "      <th>1</th>\n",
       "      <td>27.88</td>\n",
       "      <td>20.04</td>\n",
       "      <td>44.94</td>\n",
       "      <td>32.22</td>\n",
       "    </tr>\n",
       "    <tr>\n",
       "      <th>2</th>\n",
       "      <td>27.90</td>\n",
       "      <td>19.98</td>\n",
       "      <td>45.00</td>\n",
       "      <td>32.14</td>\n",
       "    </tr>\n",
       "    <tr>\n",
       "      <th>3</th>\n",
       "      <td>27.96</td>\n",
       "      <td>19.98</td>\n",
       "      <td>44.98</td>\n",
       "      <td>32.10</td>\n",
       "    </tr>\n",
       "    <tr>\n",
       "      <th>4</th>\n",
       "      <td>28.12</td>\n",
       "      <td>20.08</td>\n",
       "      <td>44.92</td>\n",
       "      <td>32.02</td>\n",
       "    </tr>\n",
       "    <tr>\n",
       "      <th>5</th>\n",
       "      <td>27.90</td>\n",
       "      <td>20.00</td>\n",
       "      <td>44.88</td>\n",
       "      <td>32.10</td>\n",
       "    </tr>\n",
       "  </tbody>\n",
       "</table>\n",
       "</div>"
      ],
      "text/plain": [
       "       D      d      H      h\n",
       "0  28.04  19.84  44.98  32.14\n",
       "1  27.88  20.04  44.94  32.22\n",
       "2  27.90  19.98  45.00  32.14\n",
       "3  27.96  19.98  44.98  32.10\n",
       "4  28.12  20.08  44.92  32.02\n",
       "5  27.90  20.00  44.88  32.10"
      ]
     },
     "execution_count": 19,
     "metadata": {},
     "output_type": "execute_result"
    }
   ],
   "source": [
    "df = pd.read_csv('有底空心圆柱.csv')\n",
    "df"
   ]
  },
  {
   "cell_type": "code",
   "execution_count": 20,
   "metadata": {},
   "outputs": [
    {
     "data": {
      "text/latex": [
       "$\\displaystyle \\frac{\\pi \\left(D^{2} H - d^{2} h\\right)}{4}$"
      ],
      "text/plain": [
       "pi*(D**2*H - d**2*h)/4"
      ]
     },
     "execution_count": 20,
     "metadata": {},
     "output_type": "execute_result"
    }
   ],
   "source": [
    "offset = 0\n",
    "uB = 0.02\n",
    "D, d, H, h = sp.symbols('D, d, H, h')\n",
    "f = sp.pi / 4 * (D**2 * H - d**2 * h)\n",
    "f"
   ]
  },
  {
   "cell_type": "code",
   "execution_count": 21,
   "metadata": {},
   "outputs": [
    {
     "data": {
      "text/plain": [
       "{'D': 27.966666666666665,\n",
       " 'u_D': 0.09729679679551023,\n",
       " 'd': 19.986666666666665,\n",
       " 'u_d': 0.08406346808612283,\n",
       " 'H': 44.95,\n",
       " 'u_H': 0.04939635614091228,\n",
       " 'h': 32.120000000000005,\n",
       " 'u_h': 0.06870225614926934}"
      ]
     },
     "execution_count": 21,
     "metadata": {},
     "output_type": "execute_result"
    }
   ],
   "source": [
    "vars = {}\n",
    "for c in 'DdHh':\n",
    "    vars[c] = mean(df[c]) + offset\n",
    "    vars['u_' + c] = union_uncertainty(calculate_a_uncertainty(df[c]), uB)\n",
    "vars"
   ]
  },
  {
   "cell_type": "code",
   "execution_count": 22,
   "metadata": {},
   "outputs": [
    {
     "data": {
      "text/latex": [
       "$\\displaystyle \\sqrt{\\frac{\\pi^{2} D^{4} u_{H}^{2}}{16} + \\frac{\\pi^{2} D^{2} H^{2} u_{D}^{2}}{4} + \\frac{\\pi^{2} d^{4} u_{h}^{2}}{16} + \\frac{\\pi^{2} d^{2} h^{2} u_{d}^{2}}{4}}$"
      ],
      "text/plain": [
       "sqrt(pi**2*D**4*u_H**2/16 + pi**2*D**2*H**2*u_D**2/4 + pi**2*d**4*u_h**2/16 + pi**2*d**2*h**2*u_d**2/4)"
      ]
     },
     "execution_count": 22,
     "metadata": {},
     "output_type": "execute_result"
    }
   ],
   "source": [
    "u_f = indirect_uncertainty(f)\n",
    "u_f"
   ]
  },
  {
   "cell_type": "code",
   "execution_count": 23,
   "metadata": {},
   "outputs": [
    {
     "data": {
      "text/plain": [
       "(17534.8529870442, 213.270187674176)"
      ]
     },
     "execution_count": 23,
     "metadata": {},
     "output_type": "execute_result"
    }
   ],
   "source": [
    "f.evalf(subs=vars), u_f.evalf(subs=vars)"
   ]
  },
  {
   "cell_type": "markdown",
   "metadata": {},
   "source": [
    "$V = 1.75 \\times 10^4 \\pm 3 \\times 10^2$"
   ]
  },
  {
   "cell_type": "code",
   "execution_count": 24,
   "metadata": {},
   "outputs": [
    {
     "data": {
      "text/html": [
       "<div>\n",
       "<style scoped>\n",
       "    .dataframe tbody tr th:only-of-type {\n",
       "        vertical-align: middle;\n",
       "    }\n",
       "\n",
       "    .dataframe tbody tr th {\n",
       "        vertical-align: top;\n",
       "    }\n",
       "\n",
       "    .dataframe thead th {\n",
       "        text-align: right;\n",
       "    }\n",
       "</style>\n",
       "<table border=\"1\" class=\"dataframe\">\n",
       "  <thead>\n",
       "    <tr style=\"text-align: right;\">\n",
       "      <th></th>\n",
       "      <th>d</th>\n",
       "    </tr>\n",
       "  </thead>\n",
       "  <tbody>\n",
       "    <tr>\n",
       "      <th>0</th>\n",
       "      <td>10.002</td>\n",
       "    </tr>\n",
       "    <tr>\n",
       "      <th>1</th>\n",
       "      <td>10.007</td>\n",
       "    </tr>\n",
       "    <tr>\n",
       "      <th>2</th>\n",
       "      <td>10.005</td>\n",
       "    </tr>\n",
       "    <tr>\n",
       "      <th>3</th>\n",
       "      <td>10.002</td>\n",
       "    </tr>\n",
       "    <tr>\n",
       "      <th>4</th>\n",
       "      <td>10.003</td>\n",
       "    </tr>\n",
       "    <tr>\n",
       "      <th>5</th>\n",
       "      <td>10.002</td>\n",
       "    </tr>\n",
       "  </tbody>\n",
       "</table>\n",
       "</div>"
      ],
      "text/plain": [
       "        d\n",
       "0  10.002\n",
       "1  10.007\n",
       "2  10.005\n",
       "3  10.002\n",
       "4  10.003\n",
       "5  10.002"
      ]
     },
     "execution_count": 24,
     "metadata": {},
     "output_type": "execute_result"
    }
   ],
   "source": [
    "df = pd.read_csv('小钢球.csv')\n",
    "df"
   ]
  },
  {
   "cell_type": "code",
   "execution_count": 25,
   "metadata": {},
   "outputs": [
    {
     "data": {
      "text/latex": [
       "$\\displaystyle \\frac{\\pi d^{3}}{6}$"
      ],
      "text/plain": [
       "pi*d**3/6"
      ]
     },
     "execution_count": 25,
     "metadata": {},
     "output_type": "execute_result"
    }
   ],
   "source": [
    "offset = -0.020\n",
    "uB = 0.005\n",
    "d = sp.symbols('d')\n",
    "f = sp.pi / 6 * d**3\n",
    "f"
   ]
  },
  {
   "cell_type": "code",
   "execution_count": 26,
   "metadata": {},
   "outputs": [
    {
     "data": {
      "text/plain": [
       "{'d': 9.983500000000001, 'u_d': 0.005412947441089631}"
      ]
     },
     "execution_count": 26,
     "metadata": {},
     "output_type": "execute_result"
    }
   ],
   "source": [
    "vars = {}\n",
    "vars['d'] = mean(df['d']) + offset\n",
    "vars['u_d'] = union_uncertainty(calculate_a_uncertainty(df['d']), uB)\n",
    "vars"
   ]
  },
  {
   "cell_type": "code",
   "execution_count": 27,
   "metadata": {},
   "outputs": [
    {
     "data": {
      "text/latex": [
       "$\\displaystyle \\frac{\\pi \\sqrt{d^{4} u_{d}^{2}}}{2}$"
      ],
      "text/plain": [
       "pi*sqrt(d**4*u_d**2)/2"
      ]
     },
     "execution_count": 27,
     "metadata": {},
     "output_type": "execute_result"
    }
   ],
   "source": [
    "u_f = indirect_uncertainty(f)\n",
    "u_f"
   ]
  },
  {
   "cell_type": "code",
   "execution_count": 28,
   "metadata": {},
   "outputs": [
    {
     "data": {
      "text/plain": [
       "(521.011235800016, 0.847460240076920)"
      ]
     },
     "execution_count": 28,
     "metadata": {},
     "output_type": "execute_result"
    }
   ],
   "source": [
    "f.evalf(subs=vars), u_f.evalf(subs=vars)"
   ]
  },
  {
   "cell_type": "markdown",
   "metadata": {},
   "source": [
    "$V = 521.0 \\pm 0.9$"
   ]
  }
 ],
 "metadata": {
  "kernelspec": {
   "display_name": "Python 3",
   "language": "python",
   "name": "python3"
  },
  "language_info": {
   "codemirror_mode": {
    "name": "ipython",
    "version": 3
   },
   "file_extension": ".py",
   "mimetype": "text/x-python",
   "name": "python",
   "nbconvert_exporter": "python",
   "pygments_lexer": "ipython3",
   "version": "3.12.6"
  }
 },
 "nbformat": 4,
 "nbformat_minor": 2
}
